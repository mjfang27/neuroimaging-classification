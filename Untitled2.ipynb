{
 "cells": [
  {
   "cell_type": "code",
   "execution_count": 4,
   "metadata": {
    "collapsed": false
   },
   "outputs": [
    {
     "data": {
      "text/plain": [
       "(array([[-0.46414185,  0.27336893,  0.84252108],\n",
       "        [-0.5928513 ,  0.61083416, -0.52479421],\n",
       "        [-0.65810309, -0.74306868, -0.12144657]]),\n",
       " array([ 4.11309058,  3.20191178,  0.91117881]),\n",
       " array([[-0.46414185, -0.5928513 , -0.65810309],\n",
       "        [-0.27336893, -0.61083416,  0.74306868],\n",
       "        [-0.84252108,  0.52479421,  0.12144657]]))"
      ]
     },
     "execution_count": 4,
     "metadata": {},
     "output_type": "execute_result"
    }
   ],
   "source": [
    "import numpy as np\n",
    "\n",
    "a = np.array([(0,1,2), (1,0,3), (2,3,0)])\n",
    "\n",
    "np.linalg.svd(a, full_matrices=True)"
   ]
  },
  {
   "cell_type": "code",
   "execution_count": null,
   "metadata": {
    "collapsed": true
   },
   "outputs": [],
   "source": []
  }
 ],
 "metadata": {
  "anaconda-cloud": {},
  "kernelspec": {
   "display_name": "Python [default]",
   "language": "python",
   "name": "python2"
  },
  "language_info": {
   "codemirror_mode": {
    "name": "ipython",
    "version": 2
   },
   "file_extension": ".py",
   "mimetype": "text/x-python",
   "name": "python",
   "nbconvert_exporter": "python",
   "pygments_lexer": "ipython2",
   "version": "2.7.12"
  }
 },
 "nbformat": 4,
 "nbformat_minor": 1
}
